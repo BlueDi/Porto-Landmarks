{
  "nbformat": 4,
  "nbformat_minor": 0,
  "metadata": {
    "colab": {
      "name": "object_recognition.ipynb",
      "version": "0.3.2",
      "provenance": [],
      "collapsed_sections": [],
      "toc_visible": true
    },
    "kernelspec": {
      "name": "python3",
      "display_name": "Python 3"
    },
    "accelerator": "GPU"
  },
  "cells": [
    {
      "metadata": {
        "id": "D3RCe4TomwSU",
        "colab_type": "text"
      },
      "cell_type": "markdown",
      "source": [
        "Setup some variables for pathes"
      ]
    },
    {
      "metadata": {
        "id": "F7AbWF97mzvY",
        "colab_type": "code",
        "colab": {}
      },
      "cell_type": "code",
      "source": [
        "DATASET_PATH = '/content/gdrive/My\\ Drive/porto-dataset-2'\n",
        "TEST_PATH = DATASET_PATH + '/object_detection/images/test'\n",
        "TRAIN_PATH = DATASET_PATH + '/object_detection/images/train'\n",
        "TRAINING_PATH = '/root/training'"
      ],
      "execution_count": 0,
      "outputs": []
    },
    {
      "metadata": {
        "id": "6KWFVcpBk75s",
        "colab_type": "text"
      },
      "cell_type": "markdown",
      "source": [
        "# Connect to Google Drive\n",
        "The Porto dataset should be stored in Google Drive.\n",
        "\n",
        "As such we need to access it."
      ]
    },
    {
      "metadata": {
        "id": "5wTGDQ-kk8Z2",
        "colab_type": "code",
        "colab": {}
      },
      "cell_type": "code",
      "source": [
        "from google.colab import drive\n",
        "drive.mount('/content/gdrive')\n",
        "!ls '/content/gdrive/My Drive'"
      ],
      "execution_count": 0,
      "outputs": []
    },
    {
      "metadata": {
        "id": "t4NVOaFbkoLP",
        "colab_type": "text"
      },
      "cell_type": "markdown",
      "source": [
        "# Import code from Tensorflow object detection API"
      ]
    },
    {
      "metadata": {
        "id": "QFOaAGKUkt7R",
        "colab_type": "code",
        "colab": {}
      },
      "cell_type": "code",
      "source": [
        "!mkdir -p $DATASET_PATH\n",
        "%cd $DATASET_PATH\n",
        "!git clone https://github.com/tensorflow/models.git\n",
        "!mv models/research/object_detection $DATASET_PATH\n",
        "!mv -u models/research/slim/* $DATASET_PATH\n",
        "!mv models/research/setup.py $DATASET_PATH\n",
        "!mv object_detection/legacy/train.py .\n",
        "!rm -r models\n",
        "!python setup.py install\n",
        "!protoc object_detection/protos/*.proto --python_out=."
      ],
      "execution_count": 0,
      "outputs": []
    },
    {
      "metadata": {
        "id": "6K5kYkI6ZSbv",
        "colab_type": "text"
      },
      "cell_type": "markdown",
      "source": [
        "# Import Faster-RCNN-Inception-V2 model"
      ]
    },
    {
      "metadata": {
        "id": "7DdMp8mqZVW4",
        "colab_type": "code",
        "colab": {}
      },
      "cell_type": "code",
      "source": [
        "%cd $DATASET_PATH\n",
        "!curl -LO http://download.tensorflow.org/models/object_detection/faster_rcnn_inception_v2_coco_2018_01_28.tar.gz\n",
        "\n",
        "!tar -xvf faster_rcnn_inception_v2_coco_2018_01_28.tar.gz"
      ],
      "execution_count": 0,
      "outputs": []
    },
    {
      "metadata": {
        "id": "W1_bvFhnMfVD",
        "colab_type": "text"
      },
      "cell_type": "markdown",
      "source": [
        "#Import ssd_mobilenet_v1_coco"
      ]
    },
    {
      "metadata": {
        "id": "___kW_EvMfAk",
        "colab_type": "code",
        "colab": {}
      },
      "cell_type": "code",
      "source": [
        "%cd $DATASET_PATH\n",
        "!curl -LO http://download.tensorflow.org/models/object_detection/ssd_mobilenet_v1_coco_2018_01_28.tar.gz\n",
        "\n",
        "!tar -xvf ssd_mobilenet_v1_coco_2018_01_28.tar.gz"
      ],
      "execution_count": 0,
      "outputs": []
    },
    {
      "metadata": {
        "id": "NmP_7J4cElOL",
        "colab_type": "text"
      },
      "cell_type": "markdown",
      "source": [
        "# Load Dataset\n",
        "Create a duplicate of the dataset\n",
        "\n",
        "And create the train and test folder"
      ]
    },
    {
      "metadata": {
        "id": "GA41amlj3oHJ",
        "colab_type": "code",
        "colab": {}
      },
      "cell_type": "code",
      "source": [
        "%cd $DATASET_PATH\n",
        "!cp -r '/content/gdrive/My Drive/porto-dataset/resized_dataset.zip' $DATASET_PATH\n",
        "!unzip {DATASET_PATH + '/resized_dataset.zip'}"
      ],
      "execution_count": 0,
      "outputs": []
    },
    {
      "metadata": {
        "id": "X_10lfw8moSu",
        "colab_type": "code",
        "colab": {}
      },
      "cell_type": "code",
      "source": [
        "!mkdir -p $TEST_PATH\n",
        "!mkdir -p $TRAIN_PATH"
      ],
      "execution_count": 0,
      "outputs": []
    },
    {
      "metadata": {
        "id": "tGALB90eDwiM",
        "colab_type": "text"
      },
      "cell_type": "markdown",
      "source": [
        "## Move images\n",
        "Move the first 20% of each category to test"
      ]
    },
    {
      "metadata": {
        "id": "x4cMSDvkTatz",
        "colab_type": "code",
        "colab": {}
      },
      "cell_type": "code",
      "source": [
        "%cd {DATASET_PATH + '/resized_dataset/images/'}\n",
        "%cd arrabida\n",
        "!mv `ls | head -120` $TEST_PATH\n",
        "%cd ../camara\n",
        "!mv `ls | head -120` $TEST_PATH\n",
        "%cd ../clerigos\n",
        "!mv `ls | head -120` $TEST_PATH\n",
        "%cd ../musica\n",
        "!mv `ls | head -120` $TEST_PATH\n",
        "%cd ../serralves\n",
        "!mv `ls | head -120` $TEST_PATH"
      ],
      "execution_count": 0,
      "outputs": []
    },
    {
      "metadata": {
        "id": "iPzs-8EFEURd",
        "colab_type": "text"
      },
      "cell_type": "markdown",
      "source": [
        "Move all the other images to train"
      ]
    },
    {
      "metadata": {
        "id": "Hb7UJzbwEMAN",
        "colab_type": "code",
        "colab": {}
      },
      "cell_type": "code",
      "source": [
        "%cd {DATASET_PATH + '/resized_dataset/'}\n",
        "!mv images/arrabida/*.* $TRAIN_PATH\n",
        "!mv images/camara/*.* $TRAIN_PATH\n",
        "!mv images/clerigos/*.* $TRAIN_PATH\n",
        "!mv images/musica/*.* $TRAIN_PATH\n",
        "!mv images/serralves/*.* $TRAIN_PATH"
      ],
      "execution_count": 0,
      "outputs": []
    },
    {
      "metadata": {
        "id": "9gwJv0PfU2i8",
        "colab_type": "text"
      },
      "cell_type": "markdown",
      "source": [
        "## Move annotations\n",
        "Move the first 20% to test"
      ]
    },
    {
      "metadata": {
        "id": "cr52tLWeU4Z8",
        "colab_type": "code",
        "colab": {}
      },
      "cell_type": "code",
      "source": [
        "%cd {DATASET_PATH + '/resized_dataset/annotations'}\n",
        "%cd arrabida\n",
        "!mv `ls | head -120` $TEST_PATH\n",
        "%cd ../camara\n",
        "!mv `ls | head -120` $TEST_PATH\n",
        "%cd ../clerigos\n",
        "!mv `ls | head -120` $TEST_PATH\n",
        "%cd ../musica\n",
        "!mv `ls | head -120` $TEST_PATH\n",
        "%cd ../serralves\n",
        "!mv `ls | head -120` $TEST_PATH"
      ],
      "execution_count": 0,
      "outputs": []
    },
    {
      "metadata": {
        "id": "7an0iJyRYSSP",
        "colab_type": "text"
      },
      "cell_type": "markdown",
      "source": [
        "Move the other annotations to train"
      ]
    },
    {
      "metadata": {
        "id": "_LzZn8-1W8br",
        "colab_type": "code",
        "colab": {}
      },
      "cell_type": "code",
      "source": [
        "%cd $DATASET_PATH\n",
        "!mv resized_dataset/annotations/arrabida/*.* $TRAIN_PATH\n",
        "!mv resized_dataset/annotations/camara/*.* $TRAIN_PATH\n",
        "!mv resized_dataset/annotations/clerigos/*.* $TRAIN_PATH\n",
        "!mv resized_dataset/annotations/musica/*.* $TRAIN_PATH\n",
        "!mv resized_dataset/annotations/serralves/*.* $TRAIN_PATH"
      ],
      "execution_count": 0,
      "outputs": []
    },
    {
      "metadata": {
        "id": "pZKGXc6aYKkn",
        "colab_type": "text"
      },
      "cell_type": "markdown",
      "source": [
        "Remove unused directories"
      ]
    },
    {
      "metadata": {
        "id": "eWJUIc_wX4fE",
        "colab_type": "code",
        "colab": {}
      },
      "cell_type": "code",
      "source": [
        "%cd $DATASET_PATH\n",
        "!rm -r resized_dataset"
      ],
      "execution_count": 0,
      "outputs": []
    },
    {
      "metadata": {
        "id": "f3h7xJiCJv-Y",
        "colab_type": "text"
      },
      "cell_type": "markdown",
      "source": [
        "# Convert Dataset\n",
        "After getting the files of the dataset, we need to adapt it to our algorithm.\n",
        "## Import repo for needed files\n",
        "As the repository is private, the files needed should be manualy placed in the drive at the root of the dataset. In this case, to `/content/gdrive/My Drive/porto-dataset-2/object_detection/`."
      ]
    },
    {
      "metadata": {
        "id": "gjjFf1jExr0c",
        "colab_type": "code",
        "colab": {}
      },
      "cell_type": "code",
      "source": [
        "from google.colab import files\n",
        "\n",
        "%cd {DATASET_PATH + '/object_detection'}\n",
        "files.upload()"
      ],
      "execution_count": 0,
      "outputs": []
    },
    {
      "metadata": {
        "id": "WKg-upgMDDde",
        "colab_type": "text"
      },
      "cell_type": "markdown",
      "source": [
        "## Convert XML to CSV\n",
        "The algorithm that is going to be used needs CSV files instead of XML.\n",
        "\n",
        "So, first we need to convert our bounding box files to CSV.\n",
        "\n",
        "But before we need to remove bad files from the dataset."
      ]
    },
    {
      "metadata": {
        "id": "P7Y3X4p5DDO-",
        "colab_type": "code",
        "colab": {}
      },
      "cell_type": "code",
      "source": [
        "%cd {DATASET_PATH + '/object_detection'}\n",
        "!python xml_to_csv.py"
      ],
      "execution_count": 0,
      "outputs": []
    },
    {
      "metadata": {
        "id": "JzG4FFsTGFx2",
        "colab_type": "text"
      },
      "cell_type": "markdown",
      "source": [
        "## Generate tensorflow records\n",
        "The TFRecord file format is a simple record-oriented binary format that many TensorFlow applications use for training data."
      ]
    },
    {
      "metadata": {
        "id": "zEwYpb_NGGQ8",
        "colab_type": "code",
        "colab": {}
      },
      "cell_type": "code",
      "source": [
        "%cd $DATASET_PATH\n",
        "#!python generate_tfrecord.py --csv_input=images/train_labels.csv --image_dir=images/train --output_path=train.record\n",
        "#!python generate_tfrecord.py --csv_input=images/test_labels.csv --image_dir=images/test --output_path=test.record\n",
        "\n",
        "\n",
        "!python generate_tfrecord.py \\\n",
        "        --annotations_dir=$TRAIN_PATH \\\n",
        "        --label_map_path='/root/training/labelmap.pbtxt' \\\n",
        "        --output_path='object_detection/train.record'\n",
        "\n",
        "!python generate_tfrecord.py \\\n",
        "        --annotations_dir=$TEST_PATH \\\n",
        "        --label_map_path='/root/training/labelmap.pbtxt' \\\n",
        "        --output_path='object_detection/test.record'"
      ],
      "execution_count": 0,
      "outputs": []
    },
    {
      "metadata": {
        "id": "ZtBJv1fZPVGM",
        "colab_type": "text"
      },
      "cell_type": "markdown",
      "source": [
        "# Create Label Map"
      ]
    },
    {
      "metadata": {
        "id": "5QYfxtCcPYL4",
        "colab_type": "code",
        "colab": {}
      },
      "cell_type": "code",
      "source": [
        "!mkdir -p $TRAINING_PATH\n",
        "%cd $TRAINING_PATH\n",
        "!echo \"item {id: 1 name: 'arrabida'}\" > labelmap.pbtxt\n",
        "!echo \"item {id: 2 name: 'camara'}\" >> labelmap.pbtxt\n",
        "!echo \"item {id: 3 name: 'clerigos'}\" >> labelmap.pbtxt\n",
        "!echo \"item {id: 4 name: 'musica'}\" >> labelmap.pbtxt\n",
        "!echo \"item {id: 5 name: 'serralves'}\" >> labelmap.pbtxt"
      ],
      "execution_count": 0,
      "outputs": []
    },
    {
      "metadata": {
        "id": "OQ4drIEywbXO",
        "colab_type": "text"
      },
      "cell_type": "markdown",
      "source": [
        "In addition to the `labelmap`, the `configuration of the network` should also be placed manualy in `/root/training`."
      ]
    },
    {
      "metadata": {
        "id": "L2uEwqebxjot",
        "colab_type": "code",
        "colab": {}
      },
      "cell_type": "code",
      "source": [
        "from google.colab import files\n",
        "\n",
        "%cd $TRAINING_PATH\n",
        "files.upload()"
      ],
      "execution_count": 0,
      "outputs": []
    },
    {
      "metadata": {
        "id": "blActWfKuh6m",
        "colab_type": "text"
      },
      "cell_type": "markdown",
      "source": [
        "# Tensorboard\n",
        "This allows the user to see the evolution of the training."
      ]
    },
    {
      "metadata": {
        "id": "kykARlC1bJ1g",
        "colab_type": "code",
        "colab": {}
      },
      "cell_type": "code",
      "source": [
        "%cd ~\n",
        "!git clone https://github.com/mixuala/colab_utils\n",
        "\n",
        "import os\n",
        "import colab_utils.tboard\n",
        "\n",
        "ROOT = %pwd\n",
        "\n",
        "colab_utils.tboard.launch_tensorboard(bin_dir=ROOT, log_dir=TRAINING_PATH)"
      ],
      "execution_count": 0,
      "outputs": []
    },
    {
      "metadata": {
        "id": "lS9cLIJ1zZPw",
        "colab_type": "text"
      },
      "cell_type": "markdown",
      "source": [
        "# Train"
      ]
    },
    {
      "metadata": {
        "id": "C9R1XYW8zXmZ",
        "colab_type": "code",
        "colab": {}
      },
      "cell_type": "code",
      "source": [
        "%cd $DATASET_PATH\n",
        "!python train.py \\\n",
        "  --logtostderr \\\n",
        "  --train_dir=$TRAINING_PATH \\\n",
        "  --pipeline_config_path={TRAINING_PATH + '/faster_rcnn_inception_v2_porto.config'}"
      ],
      "execution_count": 0,
      "outputs": []
    },
    {
      "metadata": {
        "id": "p8yKF7A9aKJJ",
        "colab_type": "text"
      },
      "cell_type": "markdown",
      "source": [
        "## Save model to the drive\n",
        "The training must be on root in order to use tensorboard.\n",
        "After training, the checkpoint should be saved in the drive for future use."
      ]
    },
    {
      "metadata": {
        "id": "LiBQpXlXaJip",
        "colab_type": "code",
        "colab": {}
      },
      "cell_type": "code",
      "source": [
        "!cp -r $TRAINING_PATH $DATASET_PATH"
      ],
      "execution_count": 0,
      "outputs": []
    },
    {
      "metadata": {
        "id": "PB6hqefBsesD",
        "colab_type": "text"
      },
      "cell_type": "markdown",
      "source": [
        "# See the results\n",
        "## Export inference graph\n",
        "The flag `--trained_checkpoint_prefix` should be changed to the newest checkpoint."
      ]
    },
    {
      "metadata": {
        "id": "GVevkv_krILF",
        "colab_type": "code",
        "colab": {}
      },
      "cell_type": "code",
      "source": [
        "%cd $DATASET_PATH\n",
        "!mkdir -p object_detection/inference_graph\n",
        "!python export_inference_graph.py \\\n",
        "  --input_type image_tensor \\\n",
        "  --pipeline_config_path {TRAINING_PATH + '/faster_rcnn_inception_v2_porto.config'} \\\n",
        "  --trained_checkpoint_prefix {TRAINING_PATH + '/model.ckpt-3966'} \\\n",
        "  --output_file object_detection/inference_graph/firstmodel.pb"
      ],
      "execution_count": 0,
      "outputs": []
    },
    {
      "metadata": {
        "id": "4Tauf7zbwDUb",
        "colab_type": "text"
      },
      "cell_type": "markdown",
      "source": [
        "## Test pb"
      ]
    },
    {
      "metadata": {
        "id": "3OoBWGGawFWX",
        "colab_type": "code",
        "colab": {}
      },
      "cell_type": "code",
      "source": [
        "from google.colab import files\n",
        "\n",
        "%cd $DATASET_PATH\n",
        "\n",
        "files.upload()\n",
        "!python test_object_detection.py"
      ],
      "execution_count": 0,
      "outputs": []
    }
  ]
}