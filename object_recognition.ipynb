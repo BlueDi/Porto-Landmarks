{
  "nbformat": 4,
  "nbformat_minor": 0,
  "metadata": {
    "colab": {
      "name": "VCOM Project 2 - 2",
      "version": "0.3.2",
      "provenance": [],
      "toc_visible": true
    },
    "kernelspec": {
      "name": "python3",
      "display_name": "Python 3"
    },
    "accelerator": "GPU"
  },
  "cells": [
    {
      "metadata": {
        "id": "6KWFVcpBk75s",
        "colab_type": "text"
      },
      "cell_type": "markdown",
      "source": [
        "# Connect to Google Drive\n",
        "The Porto dataset should be stored in Google Drive.\n",
        "\n",
        "As such we need to access it."
      ]
    },
    {
      "metadata": {
        "id": "5wTGDQ-kk8Z2",
        "colab_type": "code",
        "colab": {}
      },
      "cell_type": "code",
      "source": [
        "from google.colab import drive\n",
        "drive.mount('/content/gdrive')\n",
        "!ls '/content/gdrive/My Drive'"
      ],
      "execution_count": 0,
      "outputs": []
    },
    {
      "metadata": {
        "id": "t4NVOaFbkoLP",
        "colab_type": "text"
      },
      "cell_type": "markdown",
      "source": [
        "# Import code from Tensorflow object detection API"
      ]
    },
    {
      "metadata": {
        "id": "QFOaAGKUkt7R",
        "colab_type": "code",
        "colab": {}
      },
      "cell_type": "code",
      "source": [
        "!mkdir -p /content/gdrive/My\\ Drive/porto-dataset-2\n",
        "%cd /content/gdrive/My\\ Drive/porto-dataset-2\n",
        "!git clone https://github.com/tensorflow/models.git\n",
        "!mv models/research/object_detection /content/gdrive/My\\ Drive/porto-dataset-2\n",
        "!mv -u models/research/slim/* /content/gdrive/My\\ Drive/porto-dataset-2\n",
        "!mv models/research/setup.py /content/gdrive/My\\ Drive/porto-dataset-2\n",
        "!rm -r models\n",
        "!python setup.py install\n",
        "!protoc object_detection/protos/*.proto --python_out=."
      ],
      "execution_count": 0,
      "outputs": []
    },
    {
      "metadata": {
        "id": "NmP_7J4cElOL",
        "colab_type": "text"
      },
      "cell_type": "markdown",
      "source": [
        "# Load Dataset\n",
        "Create a duplicate of the dataset\n",
        "\n",
        "And create the train and test folder"
      ]
    },
    {
      "metadata": {
        "id": "GA41amlj3oHJ",
        "colab_type": "code",
        "colab": {}
      },
      "cell_type": "code",
      "source": [
        "!cp -r '/content/gdrive/My Drive/porto-dataset/.' '/content/gdrive/My Drive/porto-dataset-2/object_detection'\n",
        "!mkdir -p /content/gdrive/My\\ Drive/porto-dataset-2/object_detection/images/test\n",
        "!mkdir -p /content/gdrive/My\\ Drive/porto-dataset-2/object_detection/images/train"
      ],
      "execution_count": 0,
      "outputs": []
    },
    {
      "metadata": {
        "id": "tGALB90eDwiM",
        "colab_type": "text"
      },
      "cell_type": "markdown",
      "source": [
        "## Move images\n",
        "Move the first 20% of each category to test"
      ]
    },
    {
      "metadata": {
        "id": "x4cMSDvkTatz",
        "colab_type": "code",
        "colab": {}
      },
      "cell_type": "code",
      "source": [
        "%cd /content/gdrive/My\\ Drive/porto-dataset-2/object_detection/images/\n",
        "%cd arrabida\n",
        "!mv `ls | head -120` ../test/\n",
        "%cd ../camara\n",
        "!mv `ls | head -120` ../test/\n",
        "%cd ../clerigos\n",
        "!mv `ls | head -120` ../test/\n",
        "%cd ../musica\n",
        "!mv `ls | head -120` ../test/\n",
        "%cd ../serralves\n",
        "!mv `ls | head -120` ../test/"
      ],
      "execution_count": 0,
      "outputs": []
    },
    {
      "metadata": {
        "id": "iPzs-8EFEURd",
        "colab_type": "text"
      },
      "cell_type": "markdown",
      "source": [
        "Move all the other images to train"
      ]
    },
    {
      "metadata": {
        "id": "Hb7UJzbwEMAN",
        "colab_type": "code",
        "colab": {}
      },
      "cell_type": "code",
      "source": [
        "%cd /content/gdrive/My\\ Drive/porto-dataset-2/object_detection/\n",
        "!mv images/arrabida/*.* images/train\n",
        "!mv images/camara/*.* images/train\n",
        "!mv images/clerigos/*.* images/train\n",
        "!mv images/musica/*.* images/train\n",
        "!mv images/serralves/*.* images/train"
      ],
      "execution_count": 0,
      "outputs": []
    },
    {
      "metadata": {
        "id": "9gwJv0PfU2i8",
        "colab_type": "text"
      },
      "cell_type": "markdown",
      "source": [
        "## Move annotations\n",
        "Move the first 20% to test"
      ]
    },
    {
      "metadata": {
        "id": "cr52tLWeU4Z8",
        "colab_type": "code",
        "colab": {}
      },
      "cell_type": "code",
      "source": [
        "%cd /content/gdrive/My\\ Drive/porto-dataset-2/object_detection/annotations/\n",
        "%cd arrabida\n",
        "!mv `ls | head -120` /content/gdrive/My\\ Drive/porto-dataset-2/object_detection/images/test\n",
        "%cd ../camara\n",
        "!mv `ls | head -120` /content/gdrive/My\\ Drive/porto-dataset-2/object_detection/images/test\n",
        "%cd ../clerigos\n",
        "!mv `ls | head -120` /content/gdrive/My\\ Drive/porto-dataset-2/object_detection/images/test\n",
        "%cd ../musica\n",
        "!mv `ls | head -120` /content/gdrive/My\\ Drive/porto-dataset-2/object_detection/images/test\n",
        "%cd ../serralves\n",
        "!mv `ls | head -120` /content/gdrive/My\\ Drive/porto-dataset-2/object_detection/images/test\n",
        "%cd /content/gdrive/My\\ Drive/porto-dataset-2/object_detection"
      ],
      "execution_count": 0,
      "outputs": []
    },
    {
      "metadata": {
        "id": "7an0iJyRYSSP",
        "colab_type": "text"
      },
      "cell_type": "markdown",
      "source": [
        "Move the other annotations to train"
      ]
    },
    {
      "metadata": {
        "id": "_LzZn8-1W8br",
        "colab_type": "code",
        "colab": {}
      },
      "cell_type": "code",
      "source": [
        "!mv annotations/arrabida/*.* images/train\n",
        "!mv annotations/camara/*.* images/train\n",
        "!mv annotations/clerigos/*.* images/train\n",
        "!mv annotations/musica/*.* images/train\n",
        "!mv annotations/serralves/*.* images/train"
      ],
      "execution_count": 0,
      "outputs": []
    },
    {
      "metadata": {
        "id": "pZKGXc6aYKkn",
        "colab_type": "text"
      },
      "cell_type": "markdown",
      "source": [
        "Remove unused directories"
      ]
    },
    {
      "metadata": {
        "id": "eWJUIc_wX4fE",
        "colab_type": "code",
        "colab": {}
      },
      "cell_type": "code",
      "source": [
        "%cd /content/gdrive/My\\ Drive/porto-dataset-2/object_detection/\n",
        "!rm -r annotations\n",
        "!rmdir images/arrabida\n",
        "!rmdir images/camara\n",
        "!rmdir images/clerigos\n",
        "!rmdir images/musica\n",
        "!rmdir images/serralves"
      ],
      "execution_count": 0,
      "outputs": []
    },
    {
      "metadata": {
        "id": "f3h7xJiCJv-Y",
        "colab_type": "text"
      },
      "cell_type": "markdown",
      "source": [
        "# Convert Dataset\n",
        "After getting the files of the dataset, we need to adapt it to our algorithm.\n",
        "## Import repo for needed files\n",
        "As the repository is private, the files needed should be manualy placed in the drive at the root of the dataset. In this case, to `/content/gdrive/My Drive/porto-dataset-2/object_detection/`."
      ]
    },
    {
      "metadata": {
        "id": "WKg-upgMDDde",
        "colab_type": "text"
      },
      "cell_type": "markdown",
      "source": [
        "## Convert XML to CSV\n",
        "The algorithm that is going to be used needs CSV files instead of XML.\n",
        "\n",
        "So, first we need to convert our bounding box files to CSV.\n",
        "\n",
        "But before we need to remove bad files from the dataset."
      ]
    },
    {
      "metadata": {
        "id": "rILV3ux37_qn",
        "colab_type": "code",
        "colab": {}
      },
      "cell_type": "code",
      "source": [
        "!rm /content/gdrive/My\\ Drive/porto-dataset-2/object_detection/images/train/clerigos-0135.bmp\n",
        "!rm /content/gdrive/My\\ Drive/porto-dataset-2/object_detection/images/train/clerigos-0135.xml\n",
        "!rm /content/gdrive/My\\ Drive/porto-dataset-2/object_detection/images/test/serralves-0119.xml"
      ],
      "execution_count": 0,
      "outputs": []
    },
    {
      "metadata": {
        "id": "P7Y3X4p5DDO-",
        "colab_type": "code",
        "colab": {}
      },
      "cell_type": "code",
      "source": [
        "%cd /content/gdrive/My\\ Drive/porto-dataset-2/object_detection/  \n",
        "!python xml_to_csv.py"
      ],
      "execution_count": 0,
      "outputs": []
    },
    {
      "metadata": {
        "id": "JzG4FFsTGFx2",
        "colab_type": "text"
      },
      "cell_type": "markdown",
      "source": [
        "## Generate tensorflow records\n",
        "The TFRecord file format is a simple record-oriented binary format that many TensorFlow applications use for training data."
      ]
    },
    {
      "metadata": {
        "id": "zEwYpb_NGGQ8",
        "colab_type": "code",
        "colab": {}
      },
      "cell_type": "code",
      "source": [
        "%cd /content/gdrive/My\\ Drive/porto-dataset-2/object_detection/\n",
        "!python generate_tfrecord.py --csv_input=images/train_labels.csv --image_dir=images/train --output_path=train.record\n",
        "!python generate_tfrecord.py --csv_input=images/test_labels.csv --image_dir=images/test --output_path=test.record"
      ],
      "execution_count": 0,
      "outputs": []
    },
    {
      "metadata": {
        "id": "ZtBJv1fZPVGM",
        "colab_type": "text"
      },
      "cell_type": "markdown",
      "source": [
        "# Create Label Map"
      ]
    },
    {
      "metadata": {
        "id": "5QYfxtCcPYL4",
        "colab_type": "code",
        "colab": {}
      },
      "cell_type": "code",
      "source": [
        "!mkdir -p /content/gdrive/My\\ Drive/porto-dataset-2/training\n",
        "%cd /content/gdrive/My\\ Drive/porto-dataset-2/training\n",
        "!echo \"item {id: 1 name: 'arrabida'}\" > labelmap.pbtxt\n",
        "!echo \"item {id: 2 name: 'camara'}\" >> labelmap.pbtxt\n",
        "!echo \"item {id: 3 name: 'clerigos'}\" >> labelmap.pbtxt\n",
        "!echo \"item {id: 4 name: 'musica'}\" >> labelmap.pbtxt\n",
        "!echo \"item {id: 5 name: 'serralves'}\" >> labelmap.pbtxt"
      ],
      "execution_count": 0,
      "outputs": []
    },
    {
      "metadata": {
        "id": "OQ4drIEywbXO",
        "colab_type": "text"
      },
      "cell_type": "markdown",
      "source": [
        "In addition to the `labelmap`, the configuration of the network should also be placed manualy in `/content/gdrive/My Drive/porto-dataset-2/training`."
      ]
    },
    {
      "metadata": {
        "id": "vxXx2griVg3G",
        "colab_type": "text"
      },
      "cell_type": "markdown",
      "source": [
        "# Train"
      ]
    },
    {
      "metadata": {
        "id": "d6Lxyy9yVifn",
        "colab_type": "code",
        "colab": {}
      },
      "cell_type": "code",
      "source": [
        "%cd /content/gdrive/My\\ Drive/porto-dataset-2\n",
        "!python train.py --logtostderr --train_dir='/content/gdrive/My Drive/porto-dataset-2/training/' --pipeline_config_path='/content/gdrive/My Drive/porto-dataset-2/training/faster_rcnn_inception_v2_porto.config'"
      ],
      "execution_count": 0,
      "outputs": []
    }
  ]
}