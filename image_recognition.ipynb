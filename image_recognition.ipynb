{
  "nbformat": 4,
  "nbformat_minor": 0,
  "metadata": {
    "colab": {
      "name": "VCOM Project 2 - 1",
      "version": "0.3.2",
      "provenance": [],
      "toc_visible": true
    },
    "kernelspec": {
      "name": "python3",
      "display_name": "Python 3"
    },
    "accelerator": "GPU"
  },
  "cells": [
    {
      "metadata": {
        "id": "fpTTnYwVJ-lO",
        "colab_type": "text"
      },
      "cell_type": "markdown",
      "source": [
        "# Load dataset\n",
        "Import Porto dataset from UP google drive.\n",
        "\n",
        "(You should make a private copy of the dataset before running this script)"
      ]
    },
    {
      "metadata": {
        "id": "6zopcghCJ389",
        "colab_type": "code",
        "outputId": "f55ea948-bc11-4c2d-f999-71a263c9d27c",
        "colab": {
          "base_uri": "https://localhost:8080/",
          "height": 139
        }
      },
      "cell_type": "code",
      "source": [
        "from google.colab import drive\n",
        "drive.mount('/content/gdrive')\n",
        "!ls '/content/gdrive/My Drive'"
      ],
      "execution_count": 1,
      "outputs": [
        {
          "output_type": "stream",
          "text": [
            "Go to this URL in a browser: https://accounts.google.com/o/oauth2/auth?client_id=947318989803-6bn6qk8qdgf4n4g3pfee6491hc0brc4i.apps.googleusercontent.com&redirect_uri=urn%3Aietf%3Awg%3Aoauth%3A2.0%3Aoob&scope=email%20https%3A%2F%2Fwww.googleapis.com%2Fauth%2Fdocs.test%20https%3A%2F%2Fwww.googleapis.com%2Fauth%2Fdrive%20https%3A%2F%2Fwww.googleapis.com%2Fauth%2Fdrive.photos.readonly%20https%3A%2F%2Fwww.googleapis.com%2Fauth%2Fpeopleapi.readonly&response_type=code\n",
            "\n",
            "Enter your authorization code:\n",
            "··········\n",
            "Mounted at /content/gdrive\n",
            "porto-dataset  porto-dataset-2\n"
          ],
          "name": "stdout"
        }
      ]
    },
    {
      "metadata": {
        "id": "oi_d02DyKSPm",
        "colab_type": "text"
      },
      "cell_type": "markdown",
      "source": [
        "# Retrain the model\n",
        "## Import the file\n",
        "Import the code from tensorflow retrain example\n",
        "\n",
        "https://www.tensorflow.org/hub/tutorials/image_retraining"
      ]
    },
    {
      "metadata": {
        "id": "6mkBL16kKIjF",
        "colab_type": "code",
        "colab": {}
      },
      "cell_type": "code",
      "source": [
        "!curl -LO https://github.com/tensorflow/hub/raw/master/examples/image_retraining/retrain.py"
      ],
      "execution_count": 0,
      "outputs": []
    },
    {
      "metadata": {
        "id": "1Afho8vS9Slw",
        "colab_type": "text"
      },
      "cell_type": "markdown",
      "source": [
        "## Display in Tensorboard"
      ]
    },
    {
      "metadata": {
        "id": "vQq2fMN_9WOK",
        "colab_type": "code",
        "colab": {}
      },
      "cell_type": "code",
      "source": [
        "!ls 'gdrive/My Drive/porto-dataset'\n",
        "!git clone https://github.com/mixuala/colab_utils\n",
        "\n",
        "import os\n",
        "import colab_utils.tboard\n",
        "\n",
        "ROOT = %pwd\n",
        "LOG_DIR = '/tmp/retrain_logs'\n",
        "\n",
        "colab_utils.tboard.launch_tensorboard(bin_dir=ROOT, log_dir=LOG_DIR)"
      ],
      "execution_count": 0,
      "outputs": []
    },
    {
      "metadata": {
        "id": "O8EDHoQA8xF7",
        "colab_type": "text"
      },
      "cell_type": "markdown",
      "source": [
        "## Retrain on our dataset"
      ]
    },
    {
      "metadata": {
        "id": "kV7n_T6aLCN1",
        "colab_type": "code",
        "colab": {}
      },
      "cell_type": "code",
      "source": [
        "!python retrain.py --image_dir 'gdrive/My Drive/porto-dataset/images'"
      ],
      "execution_count": 0,
      "outputs": []
    },
    {
      "metadata": {
        "id": "GkGt6a7MXtn0",
        "colab_type": "text"
      },
      "cell_type": "markdown",
      "source": [
        "# Display Results"
      ]
    },
    {
      "metadata": {
        "id": "Ee_b7r3g9hiW",
        "colab_type": "text"
      },
      "cell_type": "markdown",
      "source": [
        "## Analyse a single file"
      ]
    },
    {
      "metadata": {
        "id": "TCTX-V45XqDt",
        "colab_type": "code",
        "colab": {}
      },
      "cell_type": "code",
      "source": [
        "!curl -LO https://github.com/tensorflow/tensorflow/raw/master/tensorflow/examples/label_image/label_image.py\n",
        "!python label_image.py \\\n",
        "  --graph=/tmp/output_graph.pb \\\n",
        "  --labels=/tmp/output_labels.txt \\\n",
        "  --input_layer=Placeholder \\\n",
        "  --output_layer=final_result \\\n",
        "  --image='gdrive/My Drive/porto-dataset/images/arrabida/arrabida-0010.jpg'"
      ],
      "execution_count": 0,
      "outputs": []
    },
    {
      "metadata": {
        "id": "lBsA4VF1mOKr",
        "colab_type": "text"
      },
      "cell_type": "markdown",
      "source": [
        "## Generate results per class"
      ]
    },
    {
      "metadata": {
        "id": "lKOj5hxvmNpx",
        "colab_type": "code",
        "colab": {}
      },
      "cell_type": "code",
      "source": [
        "!curl -LO https://github.com/tensorflow/tensorflow/raw/master/tensorflow/examples/label_image/label_image.py\n",
        "  \n",
        "from __future__ import absolute_import\n",
        "from __future__ import division\n",
        "from __future__ import print_function\n",
        "\n",
        "import argparse\n",
        "\n",
        "import numpy as np\n",
        "import tensorflow as tf\n",
        "import label_image\n",
        "import os"
      ],
      "execution_count": 0,
      "outputs": []
    },
    {
      "metadata": {
        "id": "bUpwHZy-9qrp",
        "colab_type": "text"
      },
      "cell_type": "markdown",
      "source": [
        "Set the needed variables."
      ]
    },
    {
      "metadata": {
        "id": "HhA1kBC7pAlS",
        "colab_type": "code",
        "colab": {}
      },
      "cell_type": "code",
      "source": [
        "model_file = '/tmp/output_graph.pb'\n",
        "label_file = '/tmp/output_labels.txt'\n",
        "input_layer = 'Placeholder'\n",
        "output_layer = 'final_result'\n",
        "images_path = 'gdrive/My Drive/porto-dataset/images'"
      ],
      "execution_count": 0,
      "outputs": []
    },
    {
      "metadata": {
        "id": "8-85MuKXDbd-",
        "colab_type": "text"
      },
      "cell_type": "markdown",
      "source": [
        "Define the function that will calculate the percentage of correct values."
      ]
    },
    {
      "metadata": {
        "id": "Obfp8k7loI6P",
        "colab_type": "code",
        "colab": {}
      },
      "cell_type": "code",
      "source": [
        "graph = label_image.load_graph(model_file)\n",
        "\n",
        "def class_result_percentage(class_name):\n",
        "  j = 0\n",
        "  model_results = []\n",
        "  class_path = os.path.join(images_path, class_name)\n",
        "  for filename in os.listdir(class_path):\n",
        "    file_name = os.path.join(class_path, filename)\n",
        "    t = label_image.read_tensor_from_image_file(\n",
        "        file_name,\n",
        "        input_height=299,\n",
        "        input_width=299,\n",
        "        input_mean=0,\n",
        "        input_std=255)\n",
        "\n",
        "    input_name = \"import/\" + input_layer\n",
        "    output_name = \"import/\" + output_layer\n",
        "    input_operation = graph.get_operation_by_name(input_name)\n",
        "    output_operation = graph.get_operation_by_name(output_name)\n",
        "\n",
        "    with tf.Session(graph=graph) as sess:\n",
        "      results = sess.run(output_operation.outputs[0], {\n",
        "          input_operation.outputs[0]: t\n",
        "      })\n",
        "    results = np.squeeze(results)\n",
        "\n",
        "    top_k = results.argsort()[-5:][::-1]\n",
        "    labels = label_image.load_labels(label_file)\n",
        "    image_results = []\n",
        "    j += 1\n",
        "    for i in top_k:\n",
        "      image_results.append([labels[i], results[i]])\n",
        "    model_results.append([j, image_results])\n",
        "\n",
        "  correct_results = 0\n",
        "  for image_results in model_results:\n",
        "    if image_results[1][0][0] == class_name:\n",
        "      correct_results += 1\n",
        "  return 100 * correct_results / len(model_results)"
      ],
      "execution_count": 0,
      "outputs": []
    },
    {
      "metadata": {
        "id": "9H8EnL0P7Vbd",
        "colab_type": "code",
        "colab": {}
      },
      "cell_type": "code",
      "source": [
        "classes = ['arrabida', 'camara', 'clerigos', 'musica', 'serralves']\n",
        "    \n",
        "for cn in classes:\n",
        "  print(cn, class_result_percentage(cn))"
      ],
      "execution_count": 0,
      "outputs": []
    }
  ]
}